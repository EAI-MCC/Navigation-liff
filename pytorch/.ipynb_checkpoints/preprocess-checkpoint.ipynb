{
 "cells": [
  {
   "cell_type": "code",
   "execution_count": 1,
   "id": "8d793baf",
   "metadata": {},
   "outputs": [],
   "source": [
    "import h5py\n",
    "import numpy as np\n",
    "import matplotlib.pyplot as plt\n",
    "import os"
   ]
  },
  {
   "cell_type": "code",
   "execution_count": 26,
   "id": "1248e82e",
   "metadata": {},
   "outputs": [
    {
     "name": "stdout",
     "output_type": "stream",
     "text": [
      "<<<<<<<bedroom_04.h5<<<<<<<\n",
      "graph --- (408, 4)\n",
      "  |-- number of attributes = 0\n",
      "location --- (408, 2)\n",
      "  |-- number of attributes = 0\n",
      "observation --- (408, 300, 400, 3)\n",
      "  |-- number of attributes = 0\n",
      "resnet_feature --- (408, 10, 2048)\n",
      "  |-- number of attributes = 0\n",
      "rotation --- (408,)\n",
      "  |-- number of attributes = 0\n",
      "shortest_path_distance --- (408, 408)\n",
      "  |-- number of attributes = 0\n",
      "<<<<<<<bathroom_02.h5<<<<<<<\n",
      "graph --- (180, 4)\n",
      "location --- (180, 2)\n",
      "observation --- (180, 300, 400, 3)\n",
      "resnet_feature --- (180, 10, 2048)\n",
      "rotation --- (180,)\n",
      "shortest_path_distance --- (180, 180)\n",
      "<<<<<<<living_room_08.h5<<<<<<<\n",
      "graph --- (468, 4)\n",
      "location --- (468, 2)\n",
      "observation --- (468, 300, 400, 3)\n",
      "resnet_feature --- (468, 10, 2048)\n",
      "rotation --- (468,)\n",
      "shortest_path_distance --- (468, 468)\n",
      "<<<<<<<kitchen_02.h5<<<<<<<\n",
      "graph --- (676, 4)\n",
      "location --- (676, 2)\n",
      "observation --- (676, 300, 400, 3)\n",
      "resnet_feature --- (676, 10, 2048)\n",
      "rotation --- (676,)\n",
      "shortest_path_distance --- (676, 676)\n"
     ]
    }
   ],
   "source": [
    "####### option ########\n",
    "\n",
    "# show the structure of HDF5 file and shape of data\n",
    "file_names = os.listdir('../data/')\n",
    "print_counter_till_end = 0\n",
    "for name in file_names:\n",
    "    if name.find('h5')<0:\n",
    "        continue\n",
    "    print('<<<<<<<'+name+'<<<<<<<')\n",
    "    print_counter_till_end +=1\n",
    "    with h5py.File('../data/'+name) as f:\n",
    "        for key in f:\n",
    "            data_shape =np.array(f[key])\n",
    "            print(key+' --- '+str(np.shape(f[key])))\n",
    "            if print_counter_till_end == 1:\n",
    "                print('  |-- number of attributes = ' + str(len(f[key].attrs.keys())))\n",
    "            if print_counter_till_end == 2:\n",
    "#                 pass\n",
    "                print(np.array(f[key]))\n",
    "            \n",
    "    "
   ]
  },
  {
   "cell_type": "code",
   "execution_count": null,
   "id": "6a3253b3",
   "metadata": {},
   "outputs": [],
   "source": []
  }
 ],
 "metadata": {
  "kernelspec": {
   "display_name": "Python [conda env:main] *",
   "language": "python",
   "name": "conda-env-main-py"
  },
  "language_info": {
   "codemirror_mode": {
    "name": "ipython",
    "version": 3
   },
   "file_extension": ".py",
   "mimetype": "text/x-python",
   "name": "python",
   "nbconvert_exporter": "python",
   "pygments_lexer": "ipython3",
   "version": "3.9.0"
  }
 },
 "nbformat": 4,
 "nbformat_minor": 5
}
